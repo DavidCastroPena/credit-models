{
  "nbformat": 4,
  "nbformat_minor": 0,
  "metadata": {
    "colab": {
      "provenance": [],
      "include_colab_link": true
    },
    "kernelspec": {
      "name": "python3",
      "display_name": "Python 3"
    },
    "language_info": {
      "name": "python"
    }
  },
  "cells": [
    {
      "cell_type": "markdown",
      "metadata": {
        "id": "view-in-github",
        "colab_type": "text"
      },
      "source": [
        "<a href=\"https://colab.research.google.com/github/DavidCastroPena/credit-models/blob/main/FinalProject.ipynb\" target=\"_parent\"><img src=\"https://colab.research.google.com/assets/colab-badge.svg\" alt=\"Open In Colab\"/></a>"
      ]
    },
    {
      "cell_type": "code",
      "execution_count": null,
      "metadata": {
        "colab": {
          "base_uri": "https://localhost:8080/"
        },
        "id": "3QAGuLc7Gc8V",
        "outputId": "ea40ba5c-8134-4a4e-bd1d-0f438b5e9ca0"
      },
      "outputs": [
        {
          "output_type": "stream",
          "name": "stdout",
          "text": [
            "Mounted at /content/drive\n"
          ]
        }
      ],
      "source": [
        "from google.colab import drive\n",
        "drive.mount('/content/drive')"
      ]
    },
    {
      "cell_type": "code",
      "source": [
        "import pandas as pd\n",
        "# Paths to your files\n",
        "import pandas as pd\n",
        "\n",
        "# First attempt with folder ID\n",
        "path1_10_present = '/content/drive/My Drive/11S7cbE_9RF5lE2TuDVrIgcdrRnwJjwTY/10_present.csv'\n",
        "path1_91_09 = '/content/drive/My Drive/11S7cbE_9RF5lE2TuDVrIgcdrRnwJjwTY/91_09.csv'\n",
        "\n",
        "# Second attempt with folder name\n",
        "path2_10_present = '/content/drive/My Drive/MS&E246/10_present.csv'\n",
        "path2_91_09 = '/content/drive/My Drive/MS&E246/91_09.csv'\n",
        "\n",
        "# Try reading with both paths\n",
        "try:\n",
        "    # Try first path\n",
        "    df_10_present = pd.read_csv(path1_10_present)\n",
        "    df_91_09 = pd.read_csv(path1_91_09)\n",
        "    print(\"Successfully read from folder ID path\")\n",
        "except:\n",
        "    try:\n",
        "        # Try second path\n",
        "        df_10_present = pd.read_csv(path2_10_present)\n",
        "        df_91_09 = pd.read_csv(path2_91_09)\n",
        "        print(\"Successfully read from folder name path\")\n",
        "    except Exception as e:\n",
        "        print(f\"Error: {e}\")"
      ],
      "metadata": {
        "colab": {
          "base_uri": "https://localhost:8080/"
        },
        "id": "qnD5f7yLWnus",
        "outputId": "b45c152e-394e-46ba-fe3d-e236a1769843"
      },
      "execution_count": null,
      "outputs": [
        {
          "output_type": "stream",
          "name": "stderr",
          "text": [
            "<ipython-input-6-4238d0bcc21f>:22: DtypeWarning: Columns (32) have mixed types. Specify dtype option on import or set low_memory=False.\n",
            "  df_10_present = pd.read_csv(path2_10_present)\n"
          ]
        },
        {
          "output_type": "stream",
          "name": "stdout",
          "text": [
            "Successfully read from folder name path\n"
          ]
        },
        {
          "output_type": "stream",
          "name": "stderr",
          "text": [
            "<ipython-input-6-4238d0bcc21f>:23: DtypeWarning: Columns (12,13,14,25) have mixed types. Specify dtype option on import or set low_memory=False.\n",
            "  df_91_09 = pd.read_csv(path2_91_09)\n"
          ]
        }
      ]
    },
    {
      "cell_type": "code",
      "source": [
        "#What is the id of the dataset\n",
        "id_columns = ['AsOfDate', 'Program', 'BorrName', 'BorrStreet', 'BorrCity', 'BorrState', 'BorrZip']\n",
        "\n",
        "# Check for 10_present dataset\n",
        "duplicates_10 = df_10_present.groupby(id_columns).size().reset_index(name='count')\n",
        "has_duplicates_10 = any(duplicates_10['count'] > 1)\n",
        "\n",
        "# Check for 91_09 dataset\n",
        "duplicates_91 = df_91_09.groupby(id_columns).size().reset_index(name='count')\n",
        "has_duplicates_91 = any(duplicates_91['count'] > 1)\n",
        "\n",
        "print(\"Duplicates in 10_present:\", has_duplicates_10)\n",
        "print(\"Duplicates in 91_09:\", has_duplicates_91)\n",
        "\n",
        "# If there are duplicates, let's see some examples\n",
        "if has_duplicates_10:\n",
        "    print(\"\\nExample duplicates in 10_present:\")\n",
        "    print(duplicates_10[duplicates_10['count'] > 1].head())\n",
        "\n",
        "if has_duplicates_91:\n",
        "    print(\"\\nExample duplicates in 91_09:\")\n",
        "    print(duplicates_91[duplicates_91['count'] > 1].head())"
      ],
      "metadata": {
        "colab": {
          "base_uri": "https://localhost:8080/"
        },
        "id": "a1wRpdaNaYe2",
        "outputId": "c34c1494-0663-474e-ede6-da34de006098"
      },
      "execution_count": null,
      "outputs": [
        {
          "output_type": "stream",
          "name": "stdout",
          "text": [
            "Duplicates in 10_present: True\n",
            "Duplicates in 91_09: True\n",
            "\n",
            "Example duplicates in 10_present:\n",
            "      AsOfDate  Program                   BorrName                BorrStreet  \\\n",
            "80   9/30/2024      504       1013 Enterprises LLC      1013 Lincoln Highway   \n",
            "150  9/30/2024      504  10820 Hemlock Avenue, LLC      10820 Hemlock Avenue   \n",
            "195  9/30/2024      504    1128 Petro Parkway, LLC    1128 Petroleum Parkway   \n",
            "308  9/30/2024      504           123 Western, LLC  123 North Western Avenue   \n",
            "528  9/30/2024      504                  1508, LLC  1508 Kaliste Saloom Road   \n",
            "\n",
            "         BorrCity BorrState  BorrZip  count  \n",
            "80   Schererville        IN    46375      2  \n",
            "150       Fontana        CA    92337      2  \n",
            "195     Broussard        LA    70518      2  \n",
            "308       Chicago        IL    60612      2  \n",
            "528     Lafayette        LA    70508      2  \n",
            "\n",
            "Example duplicates in 91_09:\n",
            "      AsOfDate  Program                        BorrName  \\\n",
            "236  9/30/2024      504               220PROPERTIES LLC   \n",
            "248  9/30/2024      504          24 CARROT CORRAL, INC.   \n",
            "376  9/30/2024      504  3D Machine, Inc.and Deno Enter   \n",
            "425  9/30/2024      504            403 PARCEL ST. CORP.   \n",
            "794  9/30/2024      504        A & Z PHARMACEUTICAL INC   \n",
            "\n",
            "                       BorrStreet        BorrCity BorrState  BorrZip  count  \n",
            "236  7454 7456 & 7458 N  LA CHOLL          TUCSON        AZ    85741      2  \n",
            "248  800 BLOCK N. YELLOWSTONE AVE       POCATELLO        ID    83201      2  \n",
            "376         112 EAST UNION STREET        GOODLAND        IN    47948      2  \n",
            "425                  P.O. BOX 680  CENTRAL SQUARE        NY    13036      2  \n",
            "794       75 NORTH INDUSTRY COURT       DEER PARK        NY    11729      2  \n"
          ]
        }
      ]
    },
    {
      "cell_type": "code",
      "source": [
        "def clean_loan_data(df):\n",
        "    # Make a copy to avoid modifying original data\n",
        "    df_clean = df.copy()\n",
        "\n",
        "    print(\"Initial size:\", len(df_clean))\n",
        "\n",
        "    # 1. Clean Loan Status\n",
        "    if 'Status' in df_clean.columns:\n",
        "        status_col = 'Status'\n",
        "    elif 'LoanStatus' in df_clean.columns:\n",
        "        status_col = 'LoanStatus'\n",
        "\n",
        "    # Print unique statuses before cleaning\n",
        "    print(\"\\nUnique loan statuses before cleaning:\")\n",
        "    print(df_clean[status_col].value_counts())\n",
        "\n",
        "    # Remove canceled loans but keep CHGOFF with zero charge-off\n",
        "    canceled_mask = df_clean[status_col].str.contains('CANCLD|CANCEL|Canceled', na=False, case=False)\n",
        "    df_clean = df_clean[~canceled_mask]\n",
        "\n",
        "    # 2. Check monetary values\n",
        "    monetary_cols = ['GrossApproval', 'ThirdPartyDollars', 'GrossChargeOffAmount']\n",
        "    for col in monetary_cols:\n",
        "        if col in df_clean.columns:\n",
        "            # Remove negative values\n",
        "            df_clean = df_clean[df_clean[col].fillna(0) >= 0]\n",
        "\n",
        "    # 3. Check dates\n",
        "    date_cols = ['AsOfDate', 'ApprovalDate', 'FirstDisbursementDate',\n",
        "                'PaidInFullDate', 'ChargeOffDate']\n",
        "\n",
        "    for col in date_cols:\n",
        "        if col in df_clean.columns:\n",
        "            # Convert to datetime\n",
        "            df_clean[col] = pd.to_datetime(df_clean[col], errors='coerce')\n",
        "\n",
        "            # Remove future dates (except AsOfDate which might be a reporting date)\n",
        "            if col != 'AsOfDate':\n",
        "                df_clean = df_clean[\n",
        "                    (df_clean[col].isna()) |\n",
        "                    (df_clean[col] <= pd.Timestamp.now())\n",
        "                ]\n",
        "\n",
        "    # 4. Check logical consistency\n",
        "    # PaidInFullDate should be after ApprovalDate\n",
        "    if 'PaidInFullDate' in df_clean.columns and 'ApprovalDate' in df_clean.columns:\n",
        "        df_clean = df_clean[\n",
        "            ~((df_clean['PaidInFullDate'].notna()) &\n",
        "              (df_clean['PaidInFullDate'] < df_clean['ApprovalDate']))\n",
        "        ]\n",
        "\n",
        "    # 5. Remove rows with missing crucial information\n",
        "    crucial_cols = ['BorrName', 'GrossApproval', status_col]\n",
        "    df_clean = df_clean.dropna(subset=crucial_cols)\n",
        "\n",
        "    print(\"\\nFinal size after cleaning:\", len(df_clean))\n",
        "    print(\"\\nUnique loan statuses after cleaning:\")\n",
        "    print(df_clean[status_col].value_counts())\n",
        "\n",
        "    return df_clean\n",
        "\n",
        "# Clean both datasets\n",
        "df_10_present_clean = clean_loan_data(df_10_present)\n",
        "df_91_09_clean = clean_loan_data(df_91_09)"
      ],
      "metadata": {
        "colab": {
          "base_uri": "https://localhost:8080/"
        },
        "id": "O5I-BLMpd9Kc",
        "outputId": "5666f2bf-57a5-47ef-f964-78f863a3d983"
      },
      "execution_count": null,
      "outputs": [
        {
          "output_type": "stream",
          "name": "stdout",
          "text": [
            "Initial size: 106754\n",
            "\n",
            "Unique loan statuses before cleaning:\n",
            "LoanStatus\n",
            "EXEMPT        53794\n",
            "PIF           31190\n",
            "CANCLD        12697\n",
            "NOT FUNDED     8226\n",
            "CHGOFF          845\n",
            "Name: count, dtype: int64\n",
            "\n",
            "Final size after cleaning: 94055\n",
            "\n",
            "Unique loan statuses after cleaning:\n",
            "LoanStatus\n",
            "EXEMPT        53794\n",
            "PIF           31190\n",
            "NOT FUNDED     8226\n",
            "CHGOFF          845\n",
            "Name: count, dtype: int64\n",
            "Initial size: 111341\n",
            "\n",
            "Unique loan statuses before cleaning:\n",
            "LoanStatus\n",
            "PIF       76055\n",
            "CANCLD    17944\n",
            "CHGOFF    11233\n",
            "EXEMPT     5761\n",
            "Name: count, dtype: int64\n",
            "\n",
            "Final size after cleaning: 93048\n",
            "\n",
            "Unique loan statuses after cleaning:\n",
            "LoanStatus\n",
            "PIF       76054\n",
            "CHGOFF    11233\n",
            "EXEMPT     5761\n",
            "Name: count, dtype: int64\n"
          ]
        }
      ]
    }
  ]
}